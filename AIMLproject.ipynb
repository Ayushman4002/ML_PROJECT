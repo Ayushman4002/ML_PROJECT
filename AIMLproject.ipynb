{
 "cells": [
  {
   "cell_type": "code",
   "execution_count": 350,
   "metadata": {},
   "outputs": [],
   "source": [
    "# Step 1: Import required libraries\n",
    "import matplotlib.pyplot as plt\n",
    "import pandas as pd\n",
    "import numpy as np\n",
    "import seaborn as sns\n",
    "import warnings\n",
    "\n",
    "\n",
    "warnings.filterwarnings(\"ignore\")\n",
    "\n"
   ]
  },
  {
   "cell_type": "code",
   "execution_count": null,
   "metadata": {},
   "outputs": [],
   "source": [
    "data = pd.read_csv(r'C:\\Users\\ayush\\OneDrive\\Desktop\\new\\used_car_dataset_large.csv')\n",
    "print(data.head())\n"
   ]
  },
  {
   "cell_type": "code",
   "execution_count": null,
   "metadata": {},
   "outputs": [],
   "source": [
    "\n",
    "print(data.info())\n",
    "\n",
    "print(data.isnull().sum())\n",
    "\n",
    "\n",
    "\n",
    "numeric_data = data.select_dtypes(include=[np.number])\n",
    "\n",
    "\n",
    "plt.figure(figsize=(10, 6))\n",
    "sns.heatmap(numeric_data.corr(), annot=True, cmap='pink', fmt='.2f')\n",
    "plt.show()\n"
   ]
  },
  {
   "cell_type": "code",
   "execution_count": null,
   "metadata": {},
   "outputs": [],
   "source": [
    "\n",
    "numeric_columns = data.select_dtypes(include=[np.number]).columns\n",
    "data[numeric_columns] = data[numeric_columns].fillna(data[numeric_columns].mean())\n",
    "\n",
    "\n",
    "print(data.isnull().sum())\n"
   ]
  },
  {
   "cell_type": "code",
   "execution_count": null,
   "metadata": {},
   "outputs": [],
   "source": [
    "\n",
    "data.drop_duplicates(inplace=True)\n",
    "\n",
    "\n",
    "print(data.shape) \n"
   ]
  },
  {
   "cell_type": "code",
   "execution_count": 355,
   "metadata": {},
   "outputs": [],
   "source": [
    "current_year = 2025\n",
    "if 'year_of_manufacture' in data.columns:\n",
    "    data['car_age'] = current_year - data['year_of_manufacture']\n"
   ]
  },
  {
   "cell_type": "code",
   "execution_count": null,
   "metadata": {},
   "outputs": [],
   "source": [
    "\n",
    "plt.figure(figsize=(10, 6))\n",
    "sns.histplot(data['Price'], kde=True, color='blue') \n",
    "plt.title('Price Distribution')\n",
    "plt.xlabel('Price')\n",
    "plt.ylabel('Frequency')\n",
    "plt.show()\n"
   ]
  },
  {
   "cell_type": "code",
   "execution_count": null,
   "metadata": {},
   "outputs": [],
   "source": [
    "# Calculating the car age\n",
    "current_year = 2024  # or use pd.Timestamp.now().year\n",
    "data['car_age'] = current_year - data['Year']\n",
    "\n",
    "# Visualize the relationship between car age and price\n",
    "plt.figure(figsize=(10, 6))\n",
    "sns.scatterplot(x=data['car_age'], y=data['Price'])\n",
    "plt.title('Price vs Car Age')\n",
    "plt.xlabel('Car Age')\n",
    "plt.ylabel('Price')\n",
    "plt.show()\n"
   ]
  },
  {
   "cell_type": "code",
   "execution_count": 358,
   "metadata": {},
   "outputs": [],
   "source": [
    "\n",
    "data_for_modeling = data.drop(columns=['Fuel', 'Transmission'], errors='ignore') \n",
    "\n",
    "\n",
    "X = data_for_modeling.drop(columns=['Price'])  \n",
    "\n",
    "\n",
    "\n",
    "y = data_for_modeling['Price']  "
   ]
  },
  {
   "cell_type": "code",
   "execution_count": null,
   "metadata": {},
   "outputs": [],
   "source": [
    "\n",
    "from sklearn.model_selection import train_test_split\n",
    "X_train, X_test, y_train, y_test = train_test_split(X, y, test_size=0.2, random_state=42)\n",
    "\n",
    "\n",
    "print(X_train.shape, X_test.shape, y_train.shape, y_test.shape)\n"
   ]
  },
  {
   "cell_type": "code",
   "execution_count": null,
   "metadata": {},
   "outputs": [],
   "source": [
    "\n",
    "data_encoded = pd.get_dummies(data, drop_first=True)\n",
    "\n",
    "X = data_encoded.drop(columns=['Price'])\n",
    "y = data_encoded['Price']\n",
    "\n",
    "from sklearn.model_selection import train_test_split\n",
    "X_train, X_test, y_train, y_test = train_test_split(X, y, test_size=0.2, random_state=42)\n",
    "\n",
    "# Check the shapes of the data\n",
    "print(X_train.shape, X_test.shape, y_train.shape, y_test.shape)\n"
   ]
  },
  {
   "cell_type": "code",
   "execution_count": null,
   "metadata": {},
   "outputs": [],
   "source": [
    "from sklearn.linear_model import LinearRegression\n",
    "from sklearn.metrics import mean_absolute_error, mean_squared_error, r2_score\n",
    "\n",
    "model = LinearRegression()\n",
    "\n",
    "model.fit(X_train, y_train)\n",
    "\n",
    "y_pred = model.predict(X_test)\n",
    "\n",
    "mae = mean_absolute_error(y_test, y_pred)\n",
    "mse = mean_squared_error(y_test, y_pred)\n",
    "rmse = mean_squared_error(y_test, y_pred, squared=False)\n",
    "r2 = r2_score(y_test, y_pred)\n",
    "\n",
    "# Print the evaluation metrics\n",
    "print(f'Mean Absolute Error: {mae}')\n",
    "print(f'Mean Squared Error: {mse}')\n",
    "print(f'Root Mean Squared Error: {rmse}')\n",
    "print(f'R-squared: {r2}')\n"
   ]
  },
  {
   "cell_type": "code",
   "execution_count": null,
   "metadata": {},
   "outputs": [],
   "source": [
    "# Check the model's coefficients (which features are most influential)\n",
    "coefficients = pd.DataFrame({\n",
    "    'Feature': X.columns,\n",
    "    'Coefficient': model.coef_\n",
    "})\n",
    "\n",
    "# Sort by the magnitude of the coefficient\n",
    "coefficients['Abs_Coefficient'] = coefficients['Coefficient'].abs()\n",
    "coefficients = coefficients.sort_values(by='Abs_Coefficient', ascending=False)\n",
    "\n",
    "print(coefficients[['Feature', 'Coefficient']])\n"
   ]
  },
  {
   "cell_type": "code",
   "execution_count": null,
   "metadata": {},
   "outputs": [],
   "source": [
    "\n",
    "new_data = {\n",
    "    'Year': [2008],\n",
    "    'Mileage': [2000],\n",
    "    'Make': ['Toyota'],  \n",
    "    'Model': ['Camry'],  \n",
    "    'Transmission': ['manual']\n",
    "}\n",
    "\n",
    "new_data_df = pd.DataFrame(new_data)\n",
    "\n",
    "new_data_encoded = pd.get_dummies(new_data_df)\n",
    "\n",
    "new_data_encoded = new_data_encoded.reindex(columns=X.columns, fill_value=0)\n",
    "\n",
    "new_price_prediction = model.predict(new_data_encoded)\n",
    "print(f\"Predicted price for new car data: {new_price_prediction[0]} rupees\")\n"
   ]
  }
 ],
 "metadata": {
  "kernelspec": {
   "display_name": "Python 3",
   "language": "python",
   "name": "python3"
  },
  "language_info": {
   "codemirror_mode": {
    "name": "ipython",
    "version": 3
   },
   "file_extension": ".py",
   "mimetype": "text/x-python",
   "name": "python",
   "nbconvert_exporter": "python",
   "pygments_lexer": "ipython3",
   "version": "3.13.0"
  }
 },
 "nbformat": 4,
 "nbformat_minor": 2
}
